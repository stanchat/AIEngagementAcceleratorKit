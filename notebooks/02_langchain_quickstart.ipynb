{
 "cells": [
  {
   "cell_type": "markdown",
   "id": "e4d1b754",
   "metadata": {},
   "source": [
    "# ⚙️ LangChain Quickstart\n",
    "Basic LLM chains using OpenAI and Hugging Face."
   ]
  },
  {
   "cell_type": "code",
   "execution_count": null,
   "id": "e946834b",
   "metadata": {},
   "outputs": [],
   "source": [
    "from langchain.llms import OpenAI, HuggingFaceHub\n",
    "from langchain.prompts import PromptTemplate\n",
    "from langchain.chains import LLMChain\n",
    "\n",
    "llm_openai = OpenAI(openai_api_key=os.getenv(\"OPENAI_API_KEY\"))\n",
    "llm_hf = HuggingFaceHub(repo_id=\"google/flan-t5-large\", huggingfacehub_api_token=os.getenv(\"HF_TOKEN\"))\n",
    "\n",
    "template = PromptTemplate.from_template(\"Translate this to French: {text}\")\n",
    "chain = LLMChain(llm=llm_openai, prompt=template)\n",
    "chain.run(text=\"How are you?\")"
   ]
  }
 ],
 "metadata": {},
 "nbformat": 4,
 "nbformat_minor": 5
}
