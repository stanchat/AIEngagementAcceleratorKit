{
 "cells": [
  {
   "cell_type": "markdown",
   "id": "ec10de1f",
   "metadata": {},
   "source": [
    "# 🤖 Agentic Workflow: PDF Knowledge Assistant\n",
    "\n",
    "This notebook demonstrates how to build an agent that can reason through a task involving document retrieval and summarization."
   ]
  },
  {
   "cell_type": "code",
   "execution_count": null,
   "id": "2918d8a2",
   "metadata": {},
   "outputs": [],
   "source": [
    "# Setup\n",
    "import os\n",
    "from dotenv import load_dotenv\n",
    "from langchain.document_loaders import PyPDFLoader\n",
    "from langchain.text_splitter import RecursiveCharacterTextSplitter\n",
    "from langchain.vectorstores import FAISS\n",
    "from langchain.embeddings import OpenAIEmbeddings\n",
    "from langchain.agents import initialize_agent, Tool\n",
    "from langchain.llms import OpenAI\n",
    "from langchain.chains.question_answering import load_qa_chain\n",
    "\n",
    "load_dotenv()\n",
    "openai_key = os.getenv(\"OPENAI_API_KEY\")"
   ]
  },
  {
   "cell_type": "code",
   "execution_count": null,
   "id": "3a69282b",
   "metadata": {},
   "outputs": [],
   "source": [
    "# Step 1: Load and split PDF\n",
    "loader = PyPDFLoader(\"sample.pdf\")\n",
    "pages = loader.load_and_split()\n",
    "splitter = RecursiveCharacterTextSplitter(chunk_size=500, chunk_overlap=50)\n",
    "docs = splitter.split_documents(pages)"
   ]
  },
  {
   "cell_type": "code",
   "execution_count": null,
   "id": "7b0e185e",
   "metadata": {},
   "outputs": [],
   "source": [
    "# Step 2: Create vector store\n",
    "embeddings = OpenAIEmbeddings(openai_api_key=openai_key)\n",
    "db = FAISS.from_documents(docs, embeddings)"
   ]
  },
  {
   "cell_type": "code",
   "execution_count": null,
   "id": "3ab28ff3",
   "metadata": {},
   "outputs": [],
   "source": [
    "# Step 3: Define a QA chain\n",
    "llm = OpenAI(openai_api_key=openai_key, temperature=0)\n",
    "qa_chain = load_qa_chain(llm, chain_type=\"stuff\")\n",
    "\n",
    "def search_and_summarize(query):\n",
    "    matches = db.similarity_search(query)\n",
    "    return qa_chain.run(input_documents=matches, question=query)"
   ]
  },
  {
   "cell_type": "code",
   "execution_count": null,
   "id": "11c4aa90",
   "metadata": {},
   "outputs": [],
   "source": [
    "# Step 4: Register the search tool and initialize agent\n",
    "tools = [Tool(name=\"PDFSearch\", func=search_and_summarize, description=\"Useful for answering questions about the PDF.\")]\n",
    "agent = initialize_agent(tools, llm, agent=\"zero-shot-react-description\", verbose=True)\n",
    "\n",
    "# Try it out\n",
    "agent.run(\"Summarize the key findings from this document.\")"
   ]
  }
 ],
 "metadata": {},
 "nbformat": 4,
 "nbformat_minor": 5
}
