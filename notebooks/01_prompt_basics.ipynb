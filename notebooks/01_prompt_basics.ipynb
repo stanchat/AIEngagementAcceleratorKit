{
 "cells": [
  {
   "cell_type": "markdown",
   "id": "d0d2ccf2",
   "metadata": {},
   "source": [
    "# ✍️ Prompt Design Basics\n",
    "Explore prompt engineering with OpenAI and Hugging Face models."
   ]
  },
  {
   "cell_type": "code",
   "execution_count": null,
   "id": "14057618",
   "metadata": {},
   "outputs": [],
   "source": [
    "import os\n",
    "from dotenv import load_dotenv\n",
    "from transformers import pipeline\n",
    "import openai\n",
    "\n",
    "load_dotenv()\n",
    "openai.api_key = os.getenv(\"OPENAI_API_KEY\")\n",
    "hf_token = os.getenv(\"HF_TOKEN\")\n",
    "\n",
    "# OpenAI Prompt\n",
    "def openai_prompt(prompt):\n",
    "    response = openai.ChatCompletion.create(\n",
    "        model=\"gpt-3.5-turbo\",\n",
    "        messages=[{ \"role\": \"user\", \"content\": prompt }]\n",
    "    )\n",
    "    return response.choices[0].message[\"content\"]\n",
    "\n",
    "# Hugging Face Prompt (using transformers pipeline)\n",
    "generator = pipeline(\"text-generation\", model=\"gpt2\", use_auth_token=hf_token)\n",
    "\n",
    "def hf_prompt(prompt):\n",
    "    return generator(prompt, max_length=50)[0][\"generated_text\"]\n",
    "\n",
    "openai_prompt(\"What is hypothesis-driven development?\")\n",
    "hf_prompt(\"Explain hypothesis-driven development:\")"
   ]
  }
 ],
 "metadata": {},
 "nbformat": 4,
 "nbformat_minor": 5
}
