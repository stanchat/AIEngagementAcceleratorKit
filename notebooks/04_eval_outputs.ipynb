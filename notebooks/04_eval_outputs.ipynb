{
 "cells": [
  {
   "cell_type": "markdown",
   "id": "3d3a2b4e",
   "metadata": {},
   "source": [
    "# 🧪 Output Evaluation\n",
    "Metrics to score LLM responses."
   ]
  },
  {
   "cell_type": "code",
   "execution_count": null,
   "id": "91aacc52",
   "metadata": {},
   "outputs": [],
   "source": [
    "from nltk.translate.bleu_score import sentence_bleu\n",
    "from rouge import Rouge\n",
    "import numpy as np\n",
    "\n",
    "reference = \"The Eiffel Tower is in Paris.\".split()\n",
    "candidate = \"Eiffel Tower is located in Paris.\".split()\n",
    "\n",
    "bleu = sentence_bleu([reference], candidate)\n",
    "print(\"BLEU score:\", bleu)\n",
    "\n",
    "rouge = Rouge()\n",
    "scores = rouge.get_scores(\" \".join(candidate), \" \".join(reference))\n",
    "print(\"ROUGE scores:\", scores)"
   ]
  }
 ],
 "metadata": {},
 "nbformat": 4,
 "nbformat_minor": 5
}
